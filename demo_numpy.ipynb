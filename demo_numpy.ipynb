{
 "cells": [
  {
   "cell_type": "code",
   "execution_count": 1,
   "id": "7a6b84ff",
   "metadata": {},
   "outputs": [
    {
     "data": {
      "text/plain": [
       "(array([10, 20, 30, 40]),\n",
       " array([50, 60, 70, 80]),\n",
       " [10, 20, 30, 40],\n",
       " [50, 60, 70, 80])"
      ]
     },
     "execution_count": 1,
     "metadata": {},
     "output_type": "execute_result"
    }
   ],
   "source": [
    "import numpy as np\n",
    "a1=np.array([10,20,30,40])\n",
    "a2=np.array([50,60,70,80])\n",
    "L1=[10,20,30,40]\n",
    "L2=[50,60,70,80]\n",
    "a1,a2,L1,L2"
   ]
  },
  {
   "cell_type": "code",
   "execution_count": 2,
   "id": "6cba5393",
   "metadata": {},
   "outputs": [
    {
     "data": {
      "text/plain": [
       "array([ 60,  80, 100, 120])"
      ]
     },
     "execution_count": 2,
     "metadata": {},
     "output_type": "execute_result"
    }
   ],
   "source": [
    "# + operator\n",
    "a1+a2#adds Respective elements"
   ]
  },
  {
   "cell_type": "code",
   "execution_count": 3,
   "id": "76e9743b",
   "metadata": {},
   "outputs": [
    {
     "data": {
      "text/plain": [
       "[10, 20, 30, 40, 50, 60, 70, 80]"
      ]
     },
     "execution_count": 3,
     "metadata": {},
     "output_type": "execute_result"
    }
   ],
   "source": [
    "L1+L2#concatenate 2 lists"
   ]
  },
  {
   "cell_type": "code",
   "execution_count": 4,
   "id": "dfa1418f",
   "metadata": {},
   "outputs": [
    {
     "data": {
      "text/plain": [
       "array([ 500, 1200, 2100, 3200])"
      ]
     },
     "execution_count": 4,
     "metadata": {},
     "output_type": "execute_result"
    }
   ],
   "source": [
    "# * operator\n",
    "a1*a2#multiplies all the elements"
   ]
  },
  {
   "cell_type": "code",
   "execution_count": 5,
   "id": "4770355e",
   "metadata": {},
   "outputs": [
    {
     "ename": "TypeError",
     "evalue": "can't multiply sequence by non-int of type 'list'",
     "output_type": "error",
     "traceback": [
      "\u001b[1;31m---------------------------------------------------------------------------\u001b[0m",
      "\u001b[1;31mTypeError\u001b[0m                                 Traceback (most recent call last)",
      "\u001b[1;32m<ipython-input-5-f525a1e96937>\u001b[0m in \u001b[0;36m<module>\u001b[1;34m\u001b[0m\n\u001b[1;32m----> 1\u001b[1;33m \u001b[0mL1\u001b[0m\u001b[1;33m*\u001b[0m\u001b[0mL2\u001b[0m\u001b[1;33m\u001b[0m\u001b[1;33m\u001b[0m\u001b[0m\n\u001b[0m",
      "\u001b[1;31mTypeError\u001b[0m: can't multiply sequence by non-int of type 'list'"
     ]
    }
   ],
   "source": [
    "L1*L2"
   ]
  },
  {
   "cell_type": "code",
   "execution_count": 6,
   "id": "fadc0970",
   "metadata": {},
   "outputs": [
    {
     "data": {
      "text/plain": [
       "array([20, 40, 60, 80])"
      ]
     },
     "execution_count": 6,
     "metadata": {},
     "output_type": "execute_result"
    }
   ],
   "source": [
    "a1*2#multiplies with 2 to all the elements of a1"
   ]
  },
  {
   "cell_type": "code",
   "execution_count": 7,
   "id": "ff5ff239",
   "metadata": {},
   "outputs": [
    {
     "data": {
      "text/plain": [
       "[10, 20, 30, 40, 10, 20, 30, 40]"
      ]
     },
     "execution_count": 7,
     "metadata": {},
     "output_type": "execute_result"
    }
   ],
   "source": [
    "L1*2#Replicates list elements with 2"
   ]
  },
  {
   "cell_type": "code",
   "execution_count": 8,
   "id": "b11fd810",
   "metadata": {},
   "outputs": [
    {
     "data": {
      "text/plain": [
       "array([ 100,  400,  900, 1600], dtype=int32)"
      ]
     },
     "execution_count": 8,
     "metadata": {},
     "output_type": "execute_result"
    }
   ],
   "source": [
    "a1**2 #squares the elements a1"
   ]
  },
  {
   "cell_type": "code",
   "execution_count": 9,
   "id": "b0059549",
   "metadata": {},
   "outputs": [
    {
     "ename": "TypeError",
     "evalue": "unsupported operand type(s) for ** or pow(): 'list' and 'int'",
     "output_type": "error",
     "traceback": [
      "\u001b[1;31m---------------------------------------------------------------------------\u001b[0m",
      "\u001b[1;31mTypeError\u001b[0m                                 Traceback (most recent call last)",
      "\u001b[1;32m<ipython-input-9-388edad8d5df>\u001b[0m in \u001b[0;36m<module>\u001b[1;34m\u001b[0m\n\u001b[1;32m----> 1\u001b[1;33m \u001b[0mL1\u001b[0m\u001b[1;33m**\u001b[0m\u001b[1;36m2\u001b[0m\u001b[1;31m#Error\u001b[0m\u001b[1;33m\u001b[0m\u001b[1;33m\u001b[0m\u001b[0m\n\u001b[0m",
      "\u001b[1;31mTypeError\u001b[0m: unsupported operand type(s) for ** or pow(): 'list' and 'int'"
     ]
    }
   ],
   "source": [
    "L1**2#Error"
   ]
  },
  {
   "cell_type": "code",
   "execution_count": 10,
   "id": "1f06c9ea",
   "metadata": {},
   "outputs": [
    {
     "data": {
      "text/plain": [
       "(3, 3)"
      ]
     },
     "execution_count": 10,
     "metadata": {},
     "output_type": "execute_result"
    }
   ],
   "source": [
    "a2=np.array([[10,20,30],[40,50,60],[70,80,90]])\n",
    "a2.shape"
   ]
  },
  {
   "cell_type": "code",
   "execution_count": 11,
   "id": "9e5a4e9d",
   "metadata": {},
   "outputs": [
    {
     "data": {
      "text/plain": [
       "array([0, 0, 0, 0, 0, 0, 0, 0, 0, 0], dtype=int64)"
      ]
     },
     "execution_count": 11,
     "metadata": {},
     "output_type": "execute_result"
    }
   ],
   "source": [
    "np.zeros(10,dtype='int64')"
   ]
  },
  {
   "cell_type": "code",
   "execution_count": 12,
   "id": "4f5b4623",
   "metadata": {},
   "outputs": [
    {
     "data": {
      "text/plain": [
       "array([[0, 0, 0],\n",
       "       [0, 0, 0],\n",
       "       [0, 0, 0]], dtype=int64)"
      ]
     },
     "execution_count": 12,
     "metadata": {},
     "output_type": "execute_result"
    }
   ],
   "source": [
    "z=np.zeros((3,3),dtype='int64')\n",
    "z"
   ]
  },
  {
   "cell_type": "code",
   "execution_count": 13,
   "id": "13c69aad",
   "metadata": {},
   "outputs": [
    {
     "data": {
      "text/plain": [
       "array([[1, 1, 1, 1],\n",
       "       [1, 1, 1, 1],\n",
       "       [1, 1, 1, 1],\n",
       "       [1, 1, 1, 1]], dtype=int64)"
      ]
     },
     "execution_count": 13,
     "metadata": {},
     "output_type": "execute_result"
    }
   ],
   "source": [
    "on=np.ones((4,4),dtype='int64')\n",
    "on"
   ]
  },
  {
   "cell_type": "code",
   "execution_count": 14,
   "id": "f500a469",
   "metadata": {},
   "outputs": [
    {
     "data": {
      "text/plain": [
       "array([[2, 2, 2],\n",
       "       [2, 2, 2],\n",
       "       [2, 2, 2]], dtype=int64)"
      ]
     },
     "execution_count": 14,
     "metadata": {},
     "output_type": "execute_result"
    }
   ],
   "source": [
    "tw=np.ones((3,3),dtype='int64')*2\n",
    "tw"
   ]
  },
  {
   "cell_type": "code",
   "execution_count": 15,
   "id": "9c81c0bd",
   "metadata": {},
   "outputs": [
    {
     "data": {
      "text/plain": [
       "array([[3, 3, 3],\n",
       "       [3, 3, 3],\n",
       "       [3, 3, 3]], dtype=int64)"
      ]
     },
     "execution_count": 15,
     "metadata": {},
     "output_type": "execute_result"
    }
   ],
   "source": [
    "th=np.ones((3,3),dtype='int64')*3\n",
    "th"
   ]
  },
  {
   "cell_type": "code",
   "execution_count": 16,
   "id": "ed9a7b69",
   "metadata": {},
   "outputs": [
    {
     "data": {
      "text/plain": [
       "array([[1, 0, 0, 0, 0, 0, 0],\n",
       "       [0, 1, 0, 0, 0, 0, 0],\n",
       "       [0, 0, 1, 0, 0, 0, 0],\n",
       "       [0, 0, 0, 1, 0, 0, 0],\n",
       "       [0, 0, 0, 0, 1, 0, 0],\n",
       "       [0, 0, 0, 0, 0, 1, 0],\n",
       "       [0, 0, 0, 0, 0, 0, 1]], dtype=int64)"
      ]
     },
     "execution_count": 16,
     "metadata": {},
     "output_type": "execute_result"
    }
   ],
   "source": [
    "ey=np.eye(7,dtype='int64')#Identity Matrix\n",
    "ey"
   ]
  },
  {
   "cell_type": "code",
   "execution_count": 17,
   "id": "f62ebebf",
   "metadata": {},
   "outputs": [
    {
     "name": "stdout",
     "output_type": "stream",
     "text": [
      "1\n"
     ]
    }
   ],
   "source": [
    "for i in range(1,11,100):\n",
    "    print(i)"
   ]
  },
  {
   "cell_type": "code",
   "execution_count": 18,
   "id": "09a094fa",
   "metadata": {},
   "outputs": [
    {
     "data": {
      "text/plain": [
       "(100,\n",
       " array([ 1.        ,  1.09090909,  1.18181818,  1.27272727,  1.36363636,\n",
       "         1.45454545,  1.54545455,  1.63636364,  1.72727273,  1.81818182,\n",
       "         1.90909091,  2.        ,  2.09090909,  2.18181818,  2.27272727,\n",
       "         2.36363636,  2.45454545,  2.54545455,  2.63636364,  2.72727273,\n",
       "         2.81818182,  2.90909091,  3.        ,  3.09090909,  3.18181818,\n",
       "         3.27272727,  3.36363636,  3.45454545,  3.54545455,  3.63636364,\n",
       "         3.72727273,  3.81818182,  3.90909091,  4.        ,  4.09090909,\n",
       "         4.18181818,  4.27272727,  4.36363636,  4.45454545,  4.54545455,\n",
       "         4.63636364,  4.72727273,  4.81818182,  4.90909091,  5.        ,\n",
       "         5.09090909,  5.18181818,  5.27272727,  5.36363636,  5.45454545,\n",
       "         5.54545455,  5.63636364,  5.72727273,  5.81818182,  5.90909091,\n",
       "         6.        ,  6.09090909,  6.18181818,  6.27272727,  6.36363636,\n",
       "         6.45454545,  6.54545455,  6.63636364,  6.72727273,  6.81818182,\n",
       "         6.90909091,  7.        ,  7.09090909,  7.18181818,  7.27272727,\n",
       "         7.36363636,  7.45454545,  7.54545455,  7.63636364,  7.72727273,\n",
       "         7.81818182,  7.90909091,  8.        ,  8.09090909,  8.18181818,\n",
       "         8.27272727,  8.36363636,  8.45454545,  8.54545455,  8.63636364,\n",
       "         8.72727273,  8.81818182,  8.90909091,  9.        ,  9.09090909,\n",
       "         9.18181818,  9.27272727,  9.36363636,  9.45454545,  9.54545455,\n",
       "         9.63636364,  9.72727273,  9.81818182,  9.90909091, 10.        ]))"
      ]
     },
     "execution_count": 18,
     "metadata": {},
     "output_type": "execute_result"
    }
   ],
   "source": [
    "L=np.linspace(1,10,100)\n",
    "len(L),L"
   ]
  },
  {
   "cell_type": "code",
   "execution_count": 19,
   "id": "a33ed0b0",
   "metadata": {},
   "outputs": [
    {
     "data": {
      "text/plain": [
       "array([ 1.3       ,  1.61034483,  1.92068966,  2.23103448,  2.54137931,\n",
       "        2.85172414,  3.16206897,  3.47241379,  3.78275862,  4.09310345,\n",
       "        4.40344828,  4.7137931 ,  5.02413793,  5.33448276,  5.64482759,\n",
       "        5.95517241,  6.26551724,  6.57586207,  6.8862069 ,  7.19655172,\n",
       "        7.50689655,  7.81724138,  8.12758621,  8.43793103,  8.74827586,\n",
       "        9.05862069,  9.36896552,  9.67931034,  9.98965517, 10.3       ])"
      ]
     },
     "execution_count": 19,
     "metadata": {},
     "output_type": "execute_result"
    }
   ],
   "source": [
    "np.linspace(1.3,10.3,30)"
   ]
  },
  {
   "cell_type": "code",
   "execution_count": 20,
   "id": "3194a7ff",
   "metadata": {},
   "outputs": [
    {
     "data": {
      "text/plain": [
       "array([ 1,  2,  3,  4,  5,  6,  7,  8,  9, 10])"
      ]
     },
     "execution_count": 20,
     "metadata": {},
     "output_type": "execute_result"
    }
   ],
   "source": [
    "np.arange(1,11)"
   ]
  },
  {
   "cell_type": "code",
   "execution_count": 21,
   "id": "9bb6bda4",
   "metadata": {},
   "outputs": [
    {
     "data": {
      "text/plain": [
       "array([ 1. ,  2.5,  4. ,  5.5,  7. ,  8.5, 10. ])"
      ]
     },
     "execution_count": 21,
     "metadata": {},
     "output_type": "execute_result"
    }
   ],
   "source": [
    "np.arange(1,11,1.5)"
   ]
  },
  {
   "cell_type": "code",
   "execution_count": 22,
   "id": "995aa060",
   "metadata": {},
   "outputs": [
    {
     "data": {
      "text/plain": [
       "array([1.3, 3.3, 5.3, 7.3, 9.3])"
      ]
     },
     "execution_count": 22,
     "metadata": {},
     "output_type": "execute_result"
    }
   ],
   "source": [
    "np.arange(1.3,11.3,2)#Note: np.arange allows us to use floating point numbers"
   ]
  },
  {
   "cell_type": "code",
   "execution_count": 23,
   "id": "3aa96e17",
   "metadata": {},
   "outputs": [
    {
     "data": {
      "text/plain": [
       "array([[8, 8, 8],\n",
       "       [8, 8, 8],\n",
       "       [8, 8, 8]])"
      ]
     },
     "execution_count": 23,
     "metadata": {},
     "output_type": "execute_result"
    }
   ],
   "source": [
    "np.full((3,3),8)"
   ]
  },
  {
   "cell_type": "code",
   "execution_count": 24,
   "id": "a07dca69",
   "metadata": {},
   "outputs": [
    {
     "data": {
      "text/plain": [
       "array([[0.38738084, 0.62434624, 0.99946261, 0.56364937, 0.32647713],\n",
       "       [0.59258217, 0.41487705, 0.21170584, 0.29405224, 0.84663827],\n",
       "       [0.17170815, 0.67617578, 0.50759748, 0.10318332, 0.28507273],\n",
       "       [0.79037067, 0.98760017, 0.51719539, 0.01039569, 0.3536571 ]])"
      ]
     },
     "execution_count": 24,
     "metadata": {},
     "output_type": "execute_result"
    }
   ],
   "source": [
    "np.random.rand(4,5)#only +ve value in the range(0,1)"
   ]
  },
  {
   "cell_type": "code",
   "execution_count": 25,
   "id": "aea6976c",
   "metadata": {},
   "outputs": [
    {
     "data": {
      "text/plain": [
       "array([[-1.69320842, -0.56500464, -0.02389776, -0.63724725, -0.0707476 ],\n",
       "       [-1.06546449,  0.39496164, -2.42454369, -0.86569912, -0.13486406],\n",
       "       [-0.86611562,  2.01724566, -0.49651848, -0.17152796, -0.52585288],\n",
       "       [-0.0059324 , -0.333719  , -0.76514237,  0.12344019,  0.3355158 ]])"
      ]
     },
     "execution_count": 25,
     "metadata": {},
     "output_type": "execute_result"
    }
   ],
   "source": [
    "np.random.randn(4,5)#it includes +ve and -ve values in the range(0,1) with median"
   ]
  },
  {
   "cell_type": "code",
   "execution_count": 26,
   "id": "2fec1d09",
   "metadata": {},
   "outputs": [
    {
     "data": {
      "text/plain": [
       "array([[99.78705104, 18.12077461,  2.26542874, 92.99481993, 48.84450837,\n",
       "        43.07658332, 85.6631091 ],\n",
       "       [90.53120628, 75.63288119, 64.16536689, 24.49538321, 17.98158248,\n",
       "        76.36639516, 35.25995765],\n",
       "       [76.15306352, 36.5720813 , 75.38576794, 49.2872923 ,  6.19430649,\n",
       "        86.71300777, 34.65250029],\n",
       "       [50.22995243, 26.20582787, 81.83817165, 54.84920995,  3.07154012,\n",
       "        19.46349235,  4.49891243],\n",
       "       [40.69783231, 95.89474083, 98.3961243 , 21.12554875, 81.20904224,\n",
       "        64.56571989, 53.75122861],\n",
       "       [53.41738701, 69.88670888, 89.67240053,  6.33111725, 36.21739231,\n",
       "        19.21495417, 19.21207463]])"
      ]
     },
     "execution_count": 26,
     "metadata": {},
     "output_type": "execute_result"
    }
   ],
   "source": [
    "np.random.rand(6,7)*100"
   ]
  },
  {
   "cell_type": "code",
   "execution_count": 27,
   "id": "b2c336ed",
   "metadata": {},
   "outputs": [
    {
     "data": {
      "text/plain": [
       "array([[0.00767009, 0.54787904, 0.97251035],\n",
       "       [0.71290999, 0.770149  , 0.12327734],\n",
       "       [0.17934054, 0.48455216, 0.0506639 ]])"
      ]
     },
     "execution_count": 27,
     "metadata": {},
     "output_type": "execute_result"
    }
   ],
   "source": [
    "L=np.random.rand(3,3)\n",
    "L"
   ]
  },
  {
   "cell_type": "code",
   "execution_count": 28,
   "id": "aa44135b",
   "metadata": {},
   "outputs": [
    {
     "data": {
      "text/plain": [
       "array([[ 0.76700877, 54.78790443, 97.25103528],\n",
       "       [71.2909993 , 77.01489961, 12.32773407],\n",
       "       [17.93405391, 48.45521646,  5.06638957]])"
      ]
     },
     "execution_count": 28,
     "metadata": {},
     "output_type": "execute_result"
    }
   ],
   "source": [
    "L*100"
   ]
  },
  {
   "cell_type": "code",
   "execution_count": 29,
   "id": "f2592178",
   "metadata": {},
   "outputs": [
    {
     "data": {
      "text/plain": [
       "array([[ 84,  79, 106, 103, 115],\n",
       "       [ 66,  87,  94,  70,  88],\n",
       "       [ 77, 103,  91, 112, 108],\n",
       "       [ 97, 115,  81,  92, 110],\n",
       "       [ 72,  97, 118, 114,  80]])"
      ]
     },
     "execution_count": 29,
     "metadata": {},
     "output_type": "execute_result"
    }
   ],
   "source": [
    "h=np.random.randint(60,130,size=(5,5))\n",
    "h"
   ]
  },
  {
   "cell_type": "code",
   "execution_count": 30,
   "id": "e8ad8763",
   "metadata": {},
   "outputs": [
    {
     "data": {
      "text/plain": [
       "array([[ 4, 21,  7, 25, 23],\n",
       "       [ 6, 25, 28, 29,  6],\n",
       "       [23, 10, 23, 12, 28],\n",
       "       [29, 26, 11, 18,  3],\n",
       "       [25, 28, 25, 15,  8]])"
      ]
     },
     "execution_count": 30,
     "metadata": {},
     "output_type": "execute_result"
    }
   ],
   "source": [
    "data=np.random.randint(3,30,size=(5,5))\n",
    "data"
   ]
  },
  {
   "cell_type": "code",
   "execution_count": 31,
   "id": "794c5e56",
   "metadata": {},
   "outputs": [
    {
     "data": {
      "text/plain": [
       "25"
      ]
     },
     "execution_count": 31,
     "metadata": {},
     "output_type": "execute_result"
    }
   ],
   "source": [
    "data.size#product of row*cols"
   ]
  },
  {
   "cell_type": "code",
   "execution_count": 32,
   "id": "f19c216c",
   "metadata": {},
   "outputs": [
    {
     "data": {
      "text/plain": [
       "dtype('int32')"
      ]
     },
     "execution_count": 32,
     "metadata": {},
     "output_type": "execute_result"
    }
   ],
   "source": [
    "data.dtype#returns data type of elements"
   ]
  },
  {
   "cell_type": "code",
   "execution_count": 33,
   "id": "e00f561e",
   "metadata": {},
   "outputs": [],
   "source": [
    "data=data.astype('int64')#astype=>It converts elements to given datatype"
   ]
  },
  {
   "cell_type": "code",
   "execution_count": 34,
   "id": "f95bdf8f",
   "metadata": {},
   "outputs": [
    {
     "data": {
      "text/plain": [
       "dtype('int64')"
      ]
     },
     "execution_count": 34,
     "metadata": {},
     "output_type": "execute_result"
    }
   ],
   "source": [
    "data.dtype"
   ]
  },
  {
   "cell_type": "code",
   "execution_count": 35,
   "id": "78ce20df",
   "metadata": {},
   "outputs": [
    {
     "data": {
      "text/plain": [
       "array([[ 4., 21.,  7., 25., 23.],\n",
       "       [ 6., 25., 28., 29.,  6.],\n",
       "       [23., 10., 23., 12., 28.],\n",
       "       [29., 26., 11., 18.,  3.],\n",
       "       [25., 28., 25., 15.,  8.]])"
      ]
     },
     "execution_count": 35,
     "metadata": {},
     "output_type": "execute_result"
    }
   ],
   "source": [
    "data.astype('float64')"
   ]
  },
  {
   "cell_type": "code",
   "execution_count": 36,
   "id": "4ba4deaa",
   "metadata": {},
   "outputs": [
    {
     "data": {
      "text/plain": [
       "[[4, 21, 7, 25, 23],\n",
       " [6, 25, 28, 29, 6],\n",
       " [23, 10, 23, 12, 28],\n",
       " [29, 26, 11, 18, 3],\n",
       " [25, 28, 25, 15, 8]]"
      ]
     },
     "execution_count": 36,
     "metadata": {},
     "output_type": "execute_result"
    }
   ],
   "source": [
    "lt=data.tolist()\n",
    "lt"
   ]
  },
  {
   "cell_type": "code",
   "execution_count": 37,
   "id": "47110327",
   "metadata": {},
   "outputs": [
    {
     "name": "stdout",
     "output_type": "stream",
     "text": [
      "class:  ndarray\n",
      "shape:  (5, 5)\n",
      "strides:  (40, 8)\n",
      "itemsize:  8\n",
      "aligned:  True\n",
      "contiguous:  True\n",
      "fortran:  False\n",
      "data pointer: 0x2a403e9f820\n",
      "byteorder:  little\n",
      "byteswap:  False\n",
      "type: int64\n"
     ]
    }
   ],
   "source": [
    "np.info(data)"
   ]
  },
  {
   "cell_type": "code",
   "execution_count": 38,
   "id": "8776ba64",
   "metadata": {},
   "outputs": [
    {
     "data": {
      "text/plain": [
       "array([[ 4., 21.,  7., 25., 23.],\n",
       "       [ 6., 25., 28., 29.,  6.],\n",
       "       [23., 10., 23., 12., 28.],\n",
       "       [29., 26., 11., 18.,  3.],\n",
       "       [25., 28., 25., 15.,  8.]])"
      ]
     },
     "execution_count": 38,
     "metadata": {},
     "output_type": "execute_result"
    }
   ],
   "source": [
    "data=data.astype('float')\n",
    "data"
   ]
  },
  {
   "cell_type": "code",
   "execution_count": 39,
   "id": "e08c8d83",
   "metadata": {},
   "outputs": [
    {
     "data": {
      "text/plain": [
       "array([[4616189618054758400, 4626604192193052672, 4619567317775286272,\n",
       "        4627730092099895296, 4627167142146473984],\n",
       "       [4618441417868443648, 4627730092099895296, 4628574517030027264,\n",
       "        4628855992006737920, 4618441417868443648],\n",
       "       [4627167142146473984, 4621819117588971520, 4627167142146473984,\n",
       "        4622945017495814144, 4628574517030027264],\n",
       "       [4628855992006737920, 4628011567076605952, 4622382067542392832,\n",
       "        4625759767262920704, 4613937818241073152],\n",
       "       [4627730092099895296, 4628574517030027264, 4627730092099895296,\n",
       "        4624633867356078080, 4620693217682128896]], dtype=int64)"
      ]
     },
     "execution_count": 39,
     "metadata": {},
     "output_type": "execute_result"
    }
   ],
   "source": [
    "data.view('int64')"
   ]
  },
  {
   "cell_type": "code",
   "execution_count": 40,
   "id": "d236e4c9",
   "metadata": {},
   "outputs": [
    {
     "data": {
      "text/plain": [
       "array([[ 4, 21,  7, 25, 23],\n",
       "       [ 6, 25, 28, 29,  6],\n",
       "       [23, 10, 23, 12, 28],\n",
       "       [29, 26, 11, 18,  3],\n",
       "       [25, 28, 25, 15,  8]], dtype=int64)"
      ]
     },
     "execution_count": 40,
     "metadata": {},
     "output_type": "execute_result"
    }
   ],
   "source": [
    "data=data.astype('int64')\n",
    "data"
   ]
  },
  {
   "cell_type": "code",
   "execution_count": 41,
   "id": "6587490b",
   "metadata": {},
   "outputs": [],
   "source": [
    "data.sort()#row-wise sorting"
   ]
  },
  {
   "cell_type": "code",
   "execution_count": 42,
   "id": "782f23c7",
   "metadata": {},
   "outputs": [
    {
     "data": {
      "text/plain": [
       "array([[ 4,  7, 21, 23, 25],\n",
       "       [ 6,  6, 25, 28, 29],\n",
       "       [10, 12, 23, 23, 28],\n",
       "       [ 3, 11, 18, 26, 29],\n",
       "       [ 8, 15, 25, 25, 28]], dtype=int64)"
      ]
     },
     "execution_count": 42,
     "metadata": {},
     "output_type": "execute_result"
    }
   ],
   "source": [
    "data"
   ]
  },
  {
   "cell_type": "code",
   "execution_count": 43,
   "id": "e5aabfeb",
   "metadata": {},
   "outputs": [
    {
     "data": {
      "text/plain": [
       "array([[ 3,  6, 18, 23, 25],\n",
       "       [ 4,  7, 21, 23, 28],\n",
       "       [ 6, 11, 23, 25, 28],\n",
       "       [ 8, 12, 25, 26, 29],\n",
       "       [10, 15, 25, 28, 29]], dtype=int64)"
      ]
     },
     "execution_count": 43,
     "metadata": {},
     "output_type": "execute_result"
    }
   ],
   "source": [
    "data.sort(axis=0)#column-wise sorting\n",
    "data"
   ]
  },
  {
   "cell_type": "code",
   "execution_count": 44,
   "id": "4f3ea6ce",
   "metadata": {},
   "outputs": [
    {
     "data": {
      "text/plain": [
       "array([ 3,  6, 18, 23, 25,  4,  7, 21, 23, 28,  6, 11, 23, 25, 28,  8, 12,\n",
       "       25, 26, 29, 10, 15, 25, 28, 29], dtype=int64)"
      ]
     },
     "execution_count": 44,
     "metadata": {},
     "output_type": "execute_result"
    }
   ],
   "source": [
    "data.flatten()# converting 2D array to 1D"
   ]
  },
  {
   "cell_type": "code",
   "execution_count": 45,
   "id": "bc93a7ae",
   "metadata": {},
   "outputs": [
    {
     "data": {
      "text/plain": [
       "array([[ 3,  4,  6,  8, 10],\n",
       "       [ 6,  7, 11, 12, 15],\n",
       "       [18, 21, 23, 25, 25],\n",
       "       [23, 23, 25, 26, 28],\n",
       "       [25, 28, 28, 29, 29]], dtype=int64)"
      ]
     },
     "execution_count": 45,
     "metadata": {},
     "output_type": "execute_result"
    }
   ],
   "source": [
    "data.T#Transpose"
   ]
  },
  {
   "cell_type": "code",
   "execution_count": 46,
   "id": "00a9fff9",
   "metadata": {},
   "outputs": [
    {
     "data": {
      "text/plain": [
       "array([[ 3,  6, 18, 23, 25],\n",
       "       [ 4,  7, 21, 23, 28],\n",
       "       [ 6, 11, 23, 25, 28],\n",
       "       [ 8, 12, 25, 26, 29],\n",
       "       [10, 15, 25, 28, 29]], dtype=int64)"
      ]
     },
     "execution_count": 46,
     "metadata": {},
     "output_type": "execute_result"
    }
   ],
   "source": [
    "data"
   ]
  },
  {
   "cell_type": "code",
   "execution_count": 47,
   "id": "f630163e",
   "metadata": {},
   "outputs": [
    {
     "data": {
      "text/plain": [
       "array([[16, 11, 21, 26],\n",
       "       [20, 17, 22, 29],\n",
       "       [20, 29, 28, 10]])"
      ]
     },
     "execution_count": 47,
     "metadata": {},
     "output_type": "execute_result"
    }
   ],
   "source": [
    "ex=np.random.randint(10,30,size=(3,4))\n",
    "ex"
   ]
  },
  {
   "cell_type": "code",
   "execution_count": 48,
   "id": "7f64bdb4",
   "metadata": {},
   "outputs": [
    {
     "data": {
      "text/plain": [
       "array([[16, 11, 21],\n",
       "       [26, 20, 17],\n",
       "       [22, 29, 20],\n",
       "       [29, 28, 10]])"
      ]
     },
     "execution_count": 48,
     "metadata": {},
     "output_type": "execute_result"
    }
   ],
   "source": [
    "ex.reshape(4,3)"
   ]
  },
  {
   "cell_type": "code",
   "execution_count": 49,
   "id": "00ba9c39",
   "metadata": {},
   "outputs": [
    {
     "ename": "ValueError",
     "evalue": "cannot reshape array of size 12 into shape (4,4)",
     "output_type": "error",
     "traceback": [
      "\u001b[1;31m---------------------------------------------------------------------------\u001b[0m",
      "\u001b[1;31mValueError\u001b[0m                                Traceback (most recent call last)",
      "\u001b[1;32m<ipython-input-49-5c3af1db454f>\u001b[0m in \u001b[0;36m<module>\u001b[1;34m\u001b[0m\n\u001b[1;32m----> 1\u001b[1;33m \u001b[0mex\u001b[0m\u001b[1;33m.\u001b[0m\u001b[0mreshape\u001b[0m\u001b[1;33m(\u001b[0m\u001b[1;36m4\u001b[0m\u001b[1;33m,\u001b[0m\u001b[1;36m4\u001b[0m\u001b[1;33m)\u001b[0m\u001b[1;33m\u001b[0m\u001b[1;33m\u001b[0m\u001b[0m\n\u001b[0m",
      "\u001b[1;31mValueError\u001b[0m: cannot reshape array of size 12 into shape (4,4)"
     ]
    }
   ],
   "source": [
    "ex.reshape(4,4)"
   ]
  },
  {
   "cell_type": "code",
   "execution_count": 50,
   "id": "12572afb",
   "metadata": {},
   "outputs": [
    {
     "data": {
      "text/plain": [
       "array([[16, 11, 21, 26, 20, 17],\n",
       "       [22, 29, 20, 29, 28, 10]])"
      ]
     },
     "execution_count": 50,
     "metadata": {},
     "output_type": "execute_result"
    }
   ],
   "source": [
    "ex.reshape(2,6)"
   ]
  },
  {
   "cell_type": "code",
   "execution_count": 51,
   "id": "0fed43a4",
   "metadata": {},
   "outputs": [
    {
     "data": {
      "text/plain": [
       "array([[16, 11, 21, 26],\n",
       "       [20, 17, 22, 29],\n",
       "       [20, 29, 28, 10],\n",
       "       [16, 11, 21, 26]])"
      ]
     },
     "execution_count": 51,
     "metadata": {},
     "output_type": "execute_result"
    }
   ],
   "source": [
    "np.resize(ex,(4,4))"
   ]
  },
  {
   "cell_type": "code",
   "execution_count": 52,
   "id": "dc0ffde0",
   "metadata": {},
   "outputs": [
    {
     "data": {
      "text/plain": [
       "array([[ 3,  6, 18, 23, 25,  4],\n",
       "       [ 7, 21, 23, 28,  6, 11],\n",
       "       [23, 25, 28,  8, 12, 25],\n",
       "       [26, 29, 10, 15, 25, 28],\n",
       "       [29,  3,  6, 18, 23, 25]], dtype=int64)"
      ]
     },
     "execution_count": 52,
     "metadata": {},
     "output_type": "execute_result"
    }
   ],
   "source": [
    "np.resize(data,(5,6))"
   ]
  },
  {
   "cell_type": "code",
   "execution_count": 53,
   "id": "461886ba",
   "metadata": {},
   "outputs": [
    {
     "data": {
      "text/plain": [
       "array([1, 2, 3])"
      ]
     },
     "execution_count": 53,
     "metadata": {},
     "output_type": "execute_result"
    }
   ],
   "source": [
    "arr=np.array([1,2,3])\n",
    "arr"
   ]
  },
  {
   "cell_type": "code",
   "execution_count": 54,
   "id": "99c31a31",
   "metadata": {},
   "outputs": [
    {
     "data": {
      "text/plain": [
       "array([ 1,  2,  3, 10])"
      ]
     },
     "execution_count": 54,
     "metadata": {},
     "output_type": "execute_result"
    }
   ],
   "source": [
    "arr=np.append(arr,10)\n",
    "arr"
   ]
  },
  {
   "cell_type": "code",
   "execution_count": 55,
   "id": "b55002a0",
   "metadata": {},
   "outputs": [
    {
     "data": {
      "text/plain": [
       "array([[16, 11, 21, 26],\n",
       "       [20, 17, 22, 29],\n",
       "       [20, 29, 28, 10]])"
      ]
     },
     "execution_count": 55,
     "metadata": {},
     "output_type": "execute_result"
    }
   ],
   "source": [
    "ex"
   ]
  },
  {
   "cell_type": "code",
   "execution_count": 56,
   "id": "924ea66f",
   "metadata": {},
   "outputs": [
    {
     "data": {
      "text/plain": [
       "array([[16, 11, 26],\n",
       "       [20, 17, 29],\n",
       "       [20, 29, 10]])"
      ]
     },
     "execution_count": 56,
     "metadata": {},
     "output_type": "execute_result"
    }
   ],
   "source": [
    "np.delete(ex,2,axis=1)#deletes col 2 from array"
   ]
  },
  {
   "cell_type": "code",
   "execution_count": 57,
   "id": "ebb12532",
   "metadata": {},
   "outputs": [
    {
     "data": {
      "text/plain": [
       "array([[16, 11, 21, 26],\n",
       "       [20, 17, 22, 29]])"
      ]
     },
     "execution_count": 57,
     "metadata": {},
     "output_type": "execute_result"
    }
   ],
   "source": [
    "np.delete(ex,2,axis=0)#deletes row 2 from array"
   ]
  },
  {
   "cell_type": "code",
   "execution_count": 58,
   "id": "3d07b8dd",
   "metadata": {},
   "outputs": [
    {
     "data": {
      "text/plain": [
       "array([[ 3,  6, 18, 23, 25],\n",
       "       [ 4,  7, 21, 23, 28],\n",
       "       [ 6, 11, 23, 25, 28],\n",
       "       [ 8, 12, 25, 26, 29],\n",
       "       [10, 15, 25, 28, 29]], dtype=int64)"
      ]
     },
     "execution_count": 58,
     "metadata": {},
     "output_type": "execute_result"
    }
   ],
   "source": [
    "data"
   ]
  },
  {
   "cell_type": "code",
   "execution_count": 59,
   "id": "ce1581eb",
   "metadata": {},
   "outputs": [
    {
     "data": {
      "text/plain": [
       "array([[ 84,  79, 106, 103, 115],\n",
       "       [ 66,  87,  94,  70,  88],\n",
       "       [ 77, 103,  91, 112, 108],\n",
       "       [ 97, 115,  81,  92, 110],\n",
       "       [ 72,  97, 118, 114,  80]])"
      ]
     },
     "execution_count": 59,
     "metadata": {},
     "output_type": "execute_result"
    }
   ],
   "source": [
    "h"
   ]
  },
  {
   "cell_type": "code",
   "execution_count": 61,
   "id": "837d2d30",
   "metadata": {},
   "outputs": [
    {
     "data": {
      "text/plain": [
       "array([[  3,   6,  18,  23,  25],\n",
       "       [  4,   7,  21,  23,  28],\n",
       "       [  6,  11,  23,  25,  28],\n",
       "       [  8,  12,  25,  26,  29],\n",
       "       [ 10,  15,  25,  28,  29],\n",
       "       [ 84,  79, 106, 103, 115],\n",
       "       [ 66,  87,  94,  70,  88],\n",
       "       [ 77, 103,  91, 112, 108],\n",
       "       [ 97, 115,  81,  92, 110],\n",
       "       [ 72,  97, 118, 114,  80]], dtype=int64)"
      ]
     },
     "execution_count": 61,
     "metadata": {},
     "output_type": "execute_result"
    }
   ],
   "source": [
    "np.concatenate((data,h),axis=0) #row-wise "
   ]
  },
  {
   "cell_type": "code",
   "execution_count": 62,
   "id": "0d1b21e2",
   "metadata": {},
   "outputs": [
    {
     "data": {
      "text/plain": [
       "array([[  3,   6,  18,  23,  25,  84,  79, 106, 103, 115],\n",
       "       [  4,   7,  21,  23,  28,  66,  87,  94,  70,  88],\n",
       "       [  6,  11,  23,  25,  28,  77, 103,  91, 112, 108],\n",
       "       [  8,  12,  25,  26,  29,  97, 115,  81,  92, 110],\n",
       "       [ 10,  15,  25,  28,  29,  72,  97, 118, 114,  80]], dtype=int64)"
      ]
     },
     "execution_count": 62,
     "metadata": {},
     "output_type": "execute_result"
    }
   ],
   "source": [
    "np.concatenate((data,h),axis=1)#col-wise"
   ]
  },
  {
   "cell_type": "code",
   "execution_count": 63,
   "id": "7c4a2bc6",
   "metadata": {},
   "outputs": [
    {
     "data": {
      "text/plain": [
       "[array([[ 84,  79, 106, 103, 115]]),\n",
       " array([[66, 87, 94, 70, 88]]),\n",
       " array([[ 77, 103,  91, 112, 108]]),\n",
       " array([[ 97, 115,  81,  92, 110]]),\n",
       " array([[ 72,  97, 118, 114,  80]])]"
      ]
     },
     "execution_count": 63,
     "metadata": {},
     "output_type": "execute_result"
    }
   ],
   "source": [
    "np.split(h,5)#row-wise split"
   ]
  },
  {
   "cell_type": "code",
   "execution_count": 64,
   "id": "d5b15845",
   "metadata": {},
   "outputs": [
    {
     "data": {
      "text/plain": [
       "[array([[84],\n",
       "        [66],\n",
       "        [77],\n",
       "        [97],\n",
       "        [72]]),\n",
       " array([[ 79],\n",
       "        [ 87],\n",
       "        [103],\n",
       "        [115],\n",
       "        [ 97]]),\n",
       " array([[106],\n",
       "        [ 94],\n",
       "        [ 91],\n",
       "        [ 81],\n",
       "        [118]]),\n",
       " array([[103],\n",
       "        [ 70],\n",
       "        [112],\n",
       "        [ 92],\n",
       "        [114]]),\n",
       " array([[115],\n",
       "        [ 88],\n",
       "        [108],\n",
       "        [110],\n",
       "        [ 80]])]"
      ]
     },
     "execution_count": 64,
     "metadata": {},
     "output_type": "execute_result"
    }
   ],
   "source": [
    "np.hsplit(h,5)#col-wise split"
   ]
  },
  {
   "cell_type": "code",
   "execution_count": 65,
   "id": "5dc16da4",
   "metadata": {},
   "outputs": [
    {
     "data": {
      "text/plain": [
       "array([[ 84,  79, 106, 103, 115],\n",
       "       [ 66,  87,  94,  70,  88],\n",
       "       [ 77, 103,  91, 112, 108],\n",
       "       [ 97, 115,  81,  92, 110],\n",
       "       [ 72,  97, 118, 114,  80]])"
      ]
     },
     "execution_count": 65,
     "metadata": {},
     "output_type": "execute_result"
    }
   ],
   "source": [
    "h"
   ]
  },
  {
   "cell_type": "code",
   "execution_count": 66,
   "id": "ac23bd9b",
   "metadata": {},
   "outputs": [
    {
     "data": {
      "text/plain": [
       "106"
      ]
     },
     "execution_count": 66,
     "metadata": {},
     "output_type": "execute_result"
    }
   ],
   "source": [
    "h[0][2]"
   ]
  },
  {
   "cell_type": "code",
   "execution_count": 67,
   "id": "60c7b579",
   "metadata": {},
   "outputs": [
    {
     "data": {
      "text/plain": [
       "106"
      ]
     },
     "execution_count": 67,
     "metadata": {},
     "output_type": "execute_result"
    }
   ],
   "source": [
    "h[0,2]"
   ]
  },
  {
   "cell_type": "code",
   "execution_count": 68,
   "id": "9098a68f",
   "metadata": {},
   "outputs": [
    {
     "data": {
      "text/plain": [
       "array([[ 84,  79, 106, 103, 115],\n",
       "       [ 77, 103,  91, 112, 108],\n",
       "       [ 72,  97, 118, 114,  80]])"
      ]
     },
     "execution_count": 68,
     "metadata": {},
     "output_type": "execute_result"
    }
   ],
   "source": [
    "#arr[rowindex,colindex]\n",
    "h[::2, :]"
   ]
  },
  {
   "cell_type": "code",
   "execution_count": 69,
   "id": "09327865",
   "metadata": {},
   "outputs": [
    {
     "data": {
      "text/plain": [
       "array([[ 66,  94,  88],\n",
       "       [ 97,  81, 110]])"
      ]
     },
     "execution_count": 69,
     "metadata": {},
     "output_type": "execute_result"
    }
   ],
   "source": [
    "h[1::2, ::2]"
   ]
  },
  {
   "cell_type": "code",
   "execution_count": 70,
   "id": "626dde2a",
   "metadata": {},
   "outputs": [
    {
     "data": {
      "text/plain": [
       "array([[ True,  True,  True,  True,  True],\n",
       "       [False,  True,  True, False,  True],\n",
       "       [ True,  True,  True,  True,  True],\n",
       "       [ True,  True,  True,  True,  True],\n",
       "       [ True,  True,  True,  True,  True]])"
      ]
     },
     "execution_count": 70,
     "metadata": {},
     "output_type": "execute_result"
    }
   ],
   "source": [
    "h>70"
   ]
  },
  {
   "cell_type": "code",
   "execution_count": 71,
   "id": "515ce097",
   "metadata": {},
   "outputs": [
    {
     "data": {
      "text/plain": [
       "array([ 84,  79, 106, 103, 115,  87,  94,  88,  77, 103,  91, 112, 108,\n",
       "        97, 115,  81,  92, 110,  72,  97, 118, 114,  80])"
      ]
     },
     "execution_count": 71,
     "metadata": {},
     "output_type": "execute_result"
    }
   ],
   "source": [
    "h[h>70]"
   ]
  },
  {
   "cell_type": "code",
   "execution_count": null,
   "id": "95683bd5",
   "metadata": {},
   "outputs": [],
   "source": []
  }
 ],
 "metadata": {
  "kernelspec": {
   "display_name": "Python 3",
   "language": "python",
   "name": "python3"
  },
  "language_info": {
   "codemirror_mode": {
    "name": "ipython",
    "version": 3
   },
   "file_extension": ".py",
   "mimetype": "text/x-python",
   "name": "python",
   "nbconvert_exporter": "python",
   "pygments_lexer": "ipython3",
   "version": "3.9.1"
  }
 },
 "nbformat": 4,
 "nbformat_minor": 5
}
