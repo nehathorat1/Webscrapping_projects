{
 "cells": [
  {
   "cell_type": "code",
   "execution_count": 1,
   "id": "798e88da",
   "metadata": {},
   "outputs": [
    {
     "data": {
      "text/plain": [
       "'python'"
      ]
     },
     "execution_count": 1,
     "metadata": {},
     "output_type": "execute_result"
    }
   ],
   "source": [
    "s='python'\n",
    "s"
   ]
  },
  {
   "cell_type": "markdown",
   "id": "8540ed5d",
   "metadata": {},
   "source": [
    "# Headings in Jupyter Notebook"
   ]
  },
  {
   "cell_type": "markdown",
   "id": "2c6afaba",
   "metadata": {},
   "source": [
    "# h1 =>Heading 1 in HTML\n",
    "## h2 =>Heading 2 in HTML\n",
    "### h3 =>Heading 3 in HTML\n",
    "#### h4 =>Heading 4 in HTML\n",
    "##### h5 =>Heading 5 in HTML"
   ]
  },
  {
   "cell_type": "markdown",
   "id": "8dfc31cf",
   "metadata": {},
   "source": [
    "## How to start jupyter notebook?\n",
    "1. **Go to specific path and open cmd on that path**\n",
    "2. **on cmd type ``jupyter notebook``**\n",
    "\n",
    "## Jupyter Notebook Shortcut:\n",
    "1. **To run current cell and create new cell**\n",
    "\n",
    "   **``shift + enter``**\n",
    "   \n",
    "2. **To run current cell**\n",
    "\n",
    "   **``crl + enter``**"
   ]
  }
 ],
 "metadata": {
  "kernelspec": {
   "display_name": "Python 3",
   "language": "python",
   "name": "python3"
  },
  "language_info": {
   "codemirror_mode": {
    "name": "ipython",
    "version": 3
   },
   "file_extension": ".py",
   "mimetype": "text/x-python",
   "name": "python",
   "nbconvert_exporter": "python",
   "pygments_lexer": "ipython3",
   "version": "3.9.1"
  }
 },
 "nbformat": 4,
 "nbformat_minor": 5
}
