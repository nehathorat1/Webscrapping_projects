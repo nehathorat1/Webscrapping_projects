{
 "cells": [
  {
   "cell_type": "code",
   "execution_count": 1,
   "id": "e4a4dbc8",
   "metadata": {},
   "outputs": [],
   "source": [
    "import requests\n",
    "import pandas as pd\n",
    "import csv\n",
    "from datetime import datetime"
   ]
  },
  {
   "cell_type": "code",
   "execution_count": 13,
   "id": "34904556",
   "metadata": {},
   "outputs": [
    {
     "data": {
      "text/plain": [
       "''"
      ]
     },
     "execution_count": 13,
     "metadata": {},
     "output_type": "execute_result"
    }
   ],
   "source": [
    "base_url=\"https://www.delhisldc.org/Loaddata.aspx?mode=\"\n",
    "start_date=2021/1/1\n",
    "end_date=2021/5/3\n",
    "daterange=pd.date_range(start_date, end_date)\n",
    "url_temp=base_url + 'KOWD/{d.year}/{d.month}/{d.day}'\n",
    "state_load_list=''\n",
    "for d in daterange:\n",
    "    url= url_temp.format(d=date)\n",
    "    state_load_list = pd.read_html(url)\n",
    "state_load_list"
   ]
  },
  {
   "cell_type": "code",
   "execution_count": null,
   "id": "57cae41d",
   "metadata": {},
   "outputs": [],
   "source": []
  }
 ],
 "metadata": {
  "kernelspec": {
   "display_name": "Python 3",
   "language": "python",
   "name": "python3"
  },
  "language_info": {
   "codemirror_mode": {
    "name": "ipython",
    "version": 3
   },
   "file_extension": ".py",
   "mimetype": "text/x-python",
   "name": "python",
   "nbconvert_exporter": "python",
   "pygments_lexer": "ipython3",
   "version": "3.9.1"
  }
 },
 "nbformat": 4,
 "nbformat_minor": 5
}
